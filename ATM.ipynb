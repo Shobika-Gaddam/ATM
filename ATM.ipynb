{
 "cells": [
  {
   "cell_type": "raw",
   "id": "7f113c3a",
   "metadata": {},
   "source": [
    "ATM Machine  - project\n",
    "\n",
    "Balance amount = 10000\n",
    "Chances = 3\n",
    "\n",
    "Pin: 1234\n",
    "Options (what options you like to choose)\n",
    "If pin wrong  - print you entered your incorrect\n",
    "If pin right – print you entered your pin correctly\n",
    "Press 1 – for your balance\n",
    "Press 2 to withdraw \n",
    "If withdraw:  money should be deducted from balance amount and need to display\n",
    "Press 3 to pay in\n",
    "If pay in -  money should be added in balance amount\n",
    "Press 4 to return card\n",
    "Restart (would you like to go back) or else thank you)"
   ]
  },
  {
   "cell_type": "code",
   "execution_count": 2,
   "id": "564f8551",
   "metadata": {},
   "outputs": [
    {
     "name": "stdout",
     "output_type": "stream",
     "text": [
      "Please Enter You 4 Digit Pin: 1222\n",
      "Please Enter You 4 Digit Pin: 1232\n",
      "Please Enter You 4 Digit Pin: 1232\n",
      "You entered your pin incorrectly\n"
     ]
    }
   ],
   "source": [
    "balance=10000\n",
    "chances=3\n",
    "option=\"\"\n",
    "restart='yes'\n",
    "while chances<=3:\n",
    "    pin = int(input('Please Enter You 4 Digit Pin: '))\n",
    "    if pin == (1234):\n",
    "        print (\"You entered your pin correctly\")\n",
    "        print('Please Press 1 For Your Balance')\n",
    "        print('Please Press 2 To Make a Withdrawl')\n",
    "        print('Please Press 3 To Pay in')\n",
    "        print('Please Press 4 To Return Card')\n",
    "        option = int(input(\"please enter option: \"))\n",
    "        if option==1:\n",
    "            print(\"Balance amount is: \", balance)\n",
    "            restart = input(\"Would you like to restart? \")\n",
    "            if restart == \"no\":\n",
    "                print(\"Thank you\")            \n",
    "                break\n",
    "        elif option==2:\n",
    "            withdrawal = float(input(\"Enter withdrawal amount: \"))\n",
    "            balance=balance-withdrawal\n",
    "            print(\"Balance amount is: \", balance)\n",
    "            restart = input(\"Would you like to restart? \")\n",
    "            if restart == \"no\":\n",
    "                print(\"Thank you\")\n",
    "                break\n",
    "        elif option == 3:\n",
    "            pay_in=float(input(\"Enter pay in amount: \"))\n",
    "            balance=balance+pay_in\n",
    "            print(\"Total balance is: \",balance)\n",
    "            restart = input(\"Would you like to restart? \")\n",
    "            if restart == \"no\":\n",
    "                print(\"Thank you\")\n",
    "                break\n",
    "        elif option == 4:\n",
    "            print(\"Your card is returned.\")\n",
    "            restart = input(\"Would you like to restart? \")\n",
    "            if restart == \"no\":\n",
    "                print(\"Thank you\")\n",
    "                break\n",
    "    else:\n",
    "        chances=chances-1\n",
    "        if chances == 0:\n",
    "            print(\"You entered your pin incorrectly\") \n",
    "            break"
   ]
  },
  {
   "cell_type": "code",
   "execution_count": null,
   "id": "8b0f2692",
   "metadata": {},
   "outputs": [],
   "source": []
  }
 ],
 "metadata": {
  "kernelspec": {
   "display_name": "Python 3",
   "language": "python",
   "name": "python3"
  },
  "language_info": {
   "codemirror_mode": {
    "name": "ipython",
    "version": 3
   },
   "file_extension": ".py",
   "mimetype": "text/x-python",
   "name": "python",
   "nbconvert_exporter": "python",
   "pygments_lexer": "ipython3",
   "version": "3.8.8"
  }
 },
 "nbformat": 4,
 "nbformat_minor": 5
}
